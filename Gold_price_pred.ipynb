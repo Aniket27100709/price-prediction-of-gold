{
  "nbformat": 4,
  "nbformat_minor": 0,
  "metadata": {
    "colab": {
      "name": "Gold price pred.ipynb",
      "provenance": [],
      "collapsed_sections": []
    },
    "kernelspec": {
      "name": "python3",
      "display_name": "Python 3"
    },
    "language_info": {
      "name": "python"
    }
  },
  "cells": [
    {
      "cell_type": "code",
      "metadata": {
        "id": "JEjhjsLoFkm7"
      },
      "source": [
        "import pandas as pd\n",
        "import numpy as np\n",
        "import matplotlib.pyplot as plt\n",
        "import seaborn as sns"
      ],
      "execution_count": 55,
      "outputs": []
    },
    {
      "cell_type": "code",
      "metadata": {
        "id": "lSDXrrxQIaC_"
      },
      "source": [
        "from sklearn.model_selection import train_test_split\n",
        "from sklearn import metrics\n",
        "from sklearn.ensemble import RandomForestRegressor"
      ],
      "execution_count": 56,
      "outputs": []
    },
    {
      "cell_type": "code",
      "metadata": {
        "id": "vHZWsLC5Ix4W"
      },
      "source": [
        "data=pd.read_csv('gld_price_data.csv')"
      ],
      "execution_count": 57,
      "outputs": []
    },
    {
      "cell_type": "code",
      "metadata": {
        "colab": {
          "base_uri": "https://localhost:8080/",
          "height": 203
        },
        "id": "a8-Bnu55KE-m",
        "outputId": "924377c3-28db-4d8c-e32f-8d0259e01769"
      },
      "source": [
        "data.head()"
      ],
      "execution_count": 58,
      "outputs": [
        {
          "output_type": "execute_result",
          "data": {
            "text/html": [
              "<div>\n",
              "<style scoped>\n",
              "    .dataframe tbody tr th:only-of-type {\n",
              "        vertical-align: middle;\n",
              "    }\n",
              "\n",
              "    .dataframe tbody tr th {\n",
              "        vertical-align: top;\n",
              "    }\n",
              "\n",
              "    .dataframe thead th {\n",
              "        text-align: right;\n",
              "    }\n",
              "</style>\n",
              "<table border=\"1\" class=\"dataframe\">\n",
              "  <thead>\n",
              "    <tr style=\"text-align: right;\">\n",
              "      <th></th>\n",
              "      <th>Date</th>\n",
              "      <th>SPX</th>\n",
              "      <th>GLD</th>\n",
              "      <th>USO</th>\n",
              "      <th>SLV</th>\n",
              "      <th>EUR/USD</th>\n",
              "    </tr>\n",
              "  </thead>\n",
              "  <tbody>\n",
              "    <tr>\n",
              "      <th>0</th>\n",
              "      <td>1/2/2008</td>\n",
              "      <td>1447.160034</td>\n",
              "      <td>84.860001</td>\n",
              "      <td>78.470001</td>\n",
              "      <td>15.180</td>\n",
              "      <td>1.471692</td>\n",
              "    </tr>\n",
              "    <tr>\n",
              "      <th>1</th>\n",
              "      <td>1/3/2008</td>\n",
              "      <td>1447.160034</td>\n",
              "      <td>85.570000</td>\n",
              "      <td>78.370003</td>\n",
              "      <td>15.285</td>\n",
              "      <td>1.474491</td>\n",
              "    </tr>\n",
              "    <tr>\n",
              "      <th>2</th>\n",
              "      <td>1/4/2008</td>\n",
              "      <td>1411.630005</td>\n",
              "      <td>85.129997</td>\n",
              "      <td>77.309998</td>\n",
              "      <td>15.167</td>\n",
              "      <td>1.475492</td>\n",
              "    </tr>\n",
              "    <tr>\n",
              "      <th>3</th>\n",
              "      <td>1/7/2008</td>\n",
              "      <td>1416.180054</td>\n",
              "      <td>84.769997</td>\n",
              "      <td>75.500000</td>\n",
              "      <td>15.053</td>\n",
              "      <td>1.468299</td>\n",
              "    </tr>\n",
              "    <tr>\n",
              "      <th>4</th>\n",
              "      <td>1/8/2008</td>\n",
              "      <td>1390.189941</td>\n",
              "      <td>86.779999</td>\n",
              "      <td>76.059998</td>\n",
              "      <td>15.590</td>\n",
              "      <td>1.557099</td>\n",
              "    </tr>\n",
              "  </tbody>\n",
              "</table>\n",
              "</div>"
            ],
            "text/plain": [
              "       Date          SPX        GLD        USO     SLV   EUR/USD\n",
              "0  1/2/2008  1447.160034  84.860001  78.470001  15.180  1.471692\n",
              "1  1/3/2008  1447.160034  85.570000  78.370003  15.285  1.474491\n",
              "2  1/4/2008  1411.630005  85.129997  77.309998  15.167  1.475492\n",
              "3  1/7/2008  1416.180054  84.769997  75.500000  15.053  1.468299\n",
              "4  1/8/2008  1390.189941  86.779999  76.059998  15.590  1.557099"
            ]
          },
          "metadata": {},
          "execution_count": 58
        }
      ]
    },
    {
      "cell_type": "code",
      "metadata": {
        "colab": {
          "base_uri": "https://localhost:8080/"
        },
        "id": "x-LS_TB5KHyj",
        "outputId": "cf39e25e-3305-4ca7-8da9-1f4b0bcb87e9"
      },
      "source": [
        "data.shape"
      ],
      "execution_count": 59,
      "outputs": [
        {
          "output_type": "execute_result",
          "data": {
            "text/plain": [
              "(2290, 6)"
            ]
          },
          "metadata": {},
          "execution_count": 59
        }
      ]
    },
    {
      "cell_type": "code",
      "metadata": {
        "id": "3XuUYLgnLDtH"
      },
      "source": [
        "data=data.head(5)"
      ],
      "execution_count": 60,
      "outputs": []
    },
    {
      "cell_type": "code",
      "metadata": {
        "colab": {
          "base_uri": "https://localhost:8080/",
          "height": 265
        },
        "id": "pZlTTadAKLjU",
        "outputId": "e6e13e82-113f-4aea-942e-0e11590b7267"
      },
      "source": [
        "x=data['Date']\n",
        "y=data['GLD']\n",
        "plt.scatter(x, y, color = 'hotpink')\n",
        "plt.show()"
      ],
      "execution_count": 61,
      "outputs": [
        {
          "output_type": "display_data",
          "data": {
            "image/png": "[encoded data removed]",
            "text/plain": [
              "<Figure size 432x288 with 1 Axes>"
            ]
          },
          "metadata": {
            "needs_background": "light"
          }
        }
      ]
    },
    {
      "cell_type": "code",
      "metadata": {
        "colab": {
          "base_uri": "https://localhost:8080/",
          "height": 417
        },
        "id": "a5XeJM7-KTTb",
        "outputId": "1d76840b-0df2-4924-be45-0f04ea5eddb9"
      },
      "source": [
        "data=pd.read_csv('gld_price_data.csv')\n",
        "data"
      ],
      "execution_count": 62,
      "outputs": [
        {
          "output_type": "execute_result",
          "data": {
            "text/html": [
              "<div>\n",
              "<style scoped>\n",
              "    .dataframe tbody tr th:only-of-type {\n",
              "        vertical-align: middle;\n",
              "    }\n",
              "\n",
              "    .dataframe tbody tr th {\n",
              "        vertical-align: top;\n",
              "    }\n",
              "\n",
              "    .dataframe thead th {\n",
              "        text-align: right;\n",
              "    }\n",
              "</style>\n",
              "<table border=\"1\" class=\"dataframe\">\n",
              "  <thead>\n",
              "    <tr style=\"text-align: right;\">\n",
              "      <th></th>\n",
              "      <th>Date</th>\n",
              "      <th>SPX</th>\n",
              "      <th>GLD</th>\n",
              "      <th>USO</th>\n",
              "      <th>SLV</th>\n",
              "      <th>EUR/USD</th>\n",
              "    </tr>\n",
              "  </thead>\n",
              "  <tbody>\n",
              "    <tr>\n",
              "      <th>0</th>\n",
              "      <td>1/2/2008</td>\n",
              "      <td>1447.160034</td>\n",
              "      <td>84.860001</td>\n",
              "      <td>78.470001</td>\n",
              "      <td>15.1800</td>\n",
              "      <td>1.471692</td>\n",
              "    </tr>\n",
              "    <tr>\n",
              "      <th>1</th>\n",
              "      <td>1/3/2008</td>\n",
              "      <td>1447.160034</td>\n",
              "      <td>85.570000</td>\n",
              "      <td>78.370003</td>\n",
              "      <td>15.2850</td>\n",
              "      <td>1.474491</td>\n",
              "    </tr>\n",
              "    <tr>\n",
              "      <th>2</th>\n",
              "      <td>1/4/2008</td>\n",
              "      <td>1411.630005</td>\n",
              "      <td>85.129997</td>\n",
              "      <td>77.309998</td>\n",
              "      <td>15.1670</td>\n",
              "      <td>1.475492</td>\n",
              "    </tr>\n",
              "    <tr>\n",
              "      <th>3</th>\n",
              "      <td>1/7/2008</td>\n",
              "      <td>1416.180054</td>\n",
              "      <td>84.769997</td>\n",
              "      <td>75.500000</td>\n",
              "      <td>15.0530</td>\n",
              "      <td>1.468299</td>\n",
              "    </tr>\n",
              "    <tr>\n",
              "      <th>4</th>\n",
              "      <td>1/8/2008</td>\n",
              "      <td>1390.189941</td>\n",
              "      <td>86.779999</td>\n",
              "      <td>76.059998</td>\n",
              "      <td>15.5900</td>\n",
              "      <td>1.557099</td>\n",
              "    </tr>\n",
              "    <tr>\n",
              "      <th>...</th>\n",
              "      <td>...</td>\n",
              "      <td>...</td>\n",
              "      <td>...</td>\n",
              "      <td>...</td>\n",
              "      <td>...</td>\n",
              "      <td>...</td>\n",
              "    </tr>\n",
              "    <tr>\n",
              "      <th>2285</th>\n",
              "      <td>5/8/2018</td>\n",
              "      <td>2671.919922</td>\n",
              "      <td>124.589996</td>\n",
              "      <td>14.060000</td>\n",
              "      <td>15.5100</td>\n",
              "      <td>1.186789</td>\n",
              "    </tr>\n",
              "    <tr>\n",
              "      <th>2286</th>\n",
              "      <td>5/9/2018</td>\n",
              "      <td>2697.790039</td>\n",
              "      <td>124.330002</td>\n",
              "      <td>14.370000</td>\n",
              "      <td>15.5300</td>\n",
              "      <td>1.184722</td>\n",
              "    </tr>\n",
              "    <tr>\n",
              "      <th>2287</th>\n",
              "      <td>5/10/2018</td>\n",
              "      <td>2723.070068</td>\n",
              "      <td>125.180000</td>\n",
              "      <td>14.410000</td>\n",
              "      <td>15.7400</td>\n",
              "      <td>1.191753</td>\n",
              "    </tr>\n",
              "    <tr>\n",
              "      <th>2288</th>\n",
              "      <td>5/14/2018</td>\n",
              "      <td>2730.129883</td>\n",
              "      <td>124.489998</td>\n",
              "      <td>14.380000</td>\n",
              "      <td>15.5600</td>\n",
              "      <td>1.193118</td>\n",
              "    </tr>\n",
              "    <tr>\n",
              "      <th>2289</th>\n",
              "      <td>5/16/2018</td>\n",
              "      <td>2725.780029</td>\n",
              "      <td>122.543800</td>\n",
              "      <td>14.405800</td>\n",
              "      <td>15.4542</td>\n",
              "      <td>1.182033</td>\n",
              "    </tr>\n",
              "  </tbody>\n",
              "</table>\n",
              "<p>2290 rows × 6 columns</p>\n",
              "</div>"
            ],
            "text/plain": [
              "           Date          SPX         GLD        USO      SLV   EUR/USD\n",
              "0      1/2/2008  1447.160034   84.860001  78.470001  15.1800  1.471692\n",
              "1      1/3/2008  1447.160034   85.570000  78.370003  15.2850  1.474491\n",
              "2      1/4/2008  1411.630005   85.129997  77.309998  15.1670  1.475492\n",
              "3      1/7/2008  1416.180054   84.769997  75.500000  15.0530  1.468299\n",
              "4      1/8/2008  1390.189941   86.779999  76.059998  15.5900  1.557099\n",
              "...         ...          ...         ...        ...      ...       ...\n",
              "2285   5/8/2018  2671.919922  124.589996  14.060000  15.5100  1.186789\n",
              "2286   5/9/2018  2697.790039  124.330002  14.370000  15.5300  1.184722\n",
              "2287  5/10/2018  2723.070068  125.180000  14.410000  15.7400  1.191753\n",
              "2288  5/14/2018  2730.129883  124.489998  14.380000  15.5600  1.193118\n",
              "2289  5/16/2018  2725.780029  122.543800  14.405800  15.4542  1.182033\n",
              "\n",
              "[2290 rows x 6 columns]"
            ]
          },
          "metadata": {},
          "execution_count": 62
        }
      ]
    },
    {
      "cell_type": "code",
      "metadata": {
        "colab": {
          "base_uri": "https://localhost:8080/"
        },
        "id": "ebcAD2DMLTx3",
        "outputId": "fbd635cf-b2d6-4d24-e2d9-4bd654816597"
      },
      "source": [
        "data.info()"
      ],
      "execution_count": 63,
      "outputs": [
        {
          "output_type": "stream",
          "name": "stdout",
          "text": [
            "<class 'pandas.core.frame.DataFrame'>\n",
            "RangeIndex: 2290 entries, 0 to 2289\n",
            "Data columns (total 6 columns):\n",
            " #   Column   Non-Null Count  Dtype  \n",
            "---  ------   --------------  -----  \n",
            " 0   Date     2290 non-null   object \n",
            " 1   SPX      2290 non-null   float64\n",
            " 2   GLD      2290 non-null   float64\n",
            " 3   USO      2290 non-null   float64\n",
            " 4   SLV      2290 non-null   float64\n",
            " 5   EUR/USD  2290 non-null   float64\n",
            "dtypes: float64(5), object(1)\n",
            "memory usage: 107.5+ KB\n"
          ]
        }
      ]
    },
    {
      "cell_type": "code",
      "metadata": {
        "colab": {
          "base_uri": "https://localhost:8080/",
          "height": 295
        },
        "id": "Z4e1T7ksLYWN",
        "outputId": "a66a4aaa-e96c-4f17-9fb1-432ae320c751"
      },
      "source": [
        "data.describe()"
      ],
      "execution_count": 64,
      "outputs": [
        {
          "output_type": "execute_result",
          "data": {
            "text/html": [
              "<div>\n",
              "<style scoped>\n",
              "    .dataframe tbody tr th:only-of-type {\n",
              "        vertical-align: middle;\n",
              "    }\n",
              "\n",
              "    .dataframe tbody tr th {\n",
              "        vertical-align: top;\n",
              "    }\n",
              "\n",
              "    .dataframe thead th {\n",
              "        text-align: right;\n",
              "    }\n",
              "</style>\n",
              "<table border=\"1\" class=\"dataframe\">\n",
              "  <thead>\n",
              "    <tr style=\"text-align: right;\">\n",
              "      <th></th>\n",
              "      <th>SPX</th>\n",
              "      <th>GLD</th>\n",
              "      <th>USO</th>\n",
              "      <th>SLV</th>\n",
              "      <th>EUR/USD</th>\n",
              "    </tr>\n",
              "  </thead>\n",
              "  <tbody>\n",
              "    <tr>\n",
              "      <th>count</th>\n",
              "      <td>2290.000000</td>\n",
              "      <td>2290.000000</td>\n",
              "      <td>2290.000000</td>\n",
              "      <td>2290.000000</td>\n",
              "      <td>2290.000000</td>\n",
              "    </tr>\n",
              "    <tr>\n",
              "      <th>mean</th>\n",
              "      <td>1654.315776</td>\n",
              "      <td>122.732875</td>\n",
              "      <td>31.842221</td>\n",
              "      <td>20.084997</td>\n",
              "      <td>1.283653</td>\n",
              "    </tr>\n",
              "    <tr>\n",
              "      <th>std</th>\n",
              "      <td>519.111540</td>\n",
              "      <td>23.283346</td>\n",
              "      <td>19.523517</td>\n",
              "      <td>7.092566</td>\n",
              "      <td>0.131547</td>\n",
              "    </tr>\n",
              "    <tr>\n",
              "      <th>min</th>\n",
              "      <td>676.530029</td>\n",
              "      <td>70.000000</td>\n",
              "      <td>7.960000</td>\n",
              "      <td>8.850000</td>\n",
              "      <td>1.039047</td>\n",
              "    </tr>\n",
              "    <tr>\n",
              "      <th>25%</th>\n",
              "      <td>1239.874969</td>\n",
              "      <td>109.725000</td>\n",
              "      <td>14.380000</td>\n",
              "      <td>15.570000</td>\n",
              "      <td>1.171313</td>\n",
              "    </tr>\n",
              "    <tr>\n",
              "      <th>50%</th>\n",
              "      <td>1551.434998</td>\n",
              "      <td>120.580002</td>\n",
              "      <td>33.869999</td>\n",
              "      <td>17.268500</td>\n",
              "      <td>1.303296</td>\n",
              "    </tr>\n",
              "    <tr>\n",
              "      <th>75%</th>\n",
              "      <td>2073.010070</td>\n",
              "      <td>132.840004</td>\n",
              "      <td>37.827501</td>\n",
              "      <td>22.882499</td>\n",
              "      <td>1.369971</td>\n",
              "    </tr>\n",
              "    <tr>\n",
              "      <th>max</th>\n",
              "      <td>2872.870117</td>\n",
              "      <td>184.589996</td>\n",
              "      <td>117.480003</td>\n",
              "      <td>47.259998</td>\n",
              "      <td>1.598798</td>\n",
              "    </tr>\n",
              "  </tbody>\n",
              "</table>\n",
              "</div>"
            ],
            "text/plain": [
              "               SPX          GLD          USO          SLV      EUR/USD\n",
              "count  2290.000000  2290.000000  2290.000000  2290.000000  2290.000000\n",
              "mean   1654.315776   122.732875    31.842221    20.084997     1.283653\n",
              "std     519.111540    23.283346    19.523517     7.092566     0.131547\n",
              "min     676.530029    70.000000     7.960000     8.850000     1.039047\n",
              "25%    1239.874969   109.725000    14.380000    15.570000     1.171313\n",
              "50%    1551.434998   120.580002    33.869999    17.268500     1.303296\n",
              "75%    2073.010070   132.840004    37.827501    22.882499     1.369971\n",
              "max    2872.870117   184.589996   117.480003    47.259998     1.598798"
            ]
          },
          "metadata": {},
          "execution_count": 64
        }
      ]
    },
    {
      "cell_type": "code",
      "metadata": {
        "colab": {
          "base_uri": "https://localhost:8080/",
          "height": 203
        },
        "id": "11CVxt9pLula",
        "outputId": "92afa6ca-e1d9-40f9-9452-123aaa623b51"
      },
      "source": [
        "co=data.corr()\n",
        "co"
      ],
      "execution_count": 65,
      "outputs": [
        {
          "output_type": "execute_result",
          "data": {
            "text/html": [
              "<div>\n",
              "<style scoped>\n",
              "    .dataframe tbody tr th:only-of-type {\n",
              "        vertical-align: middle;\n",
              "    }\n",
              "\n",
              "    .dataframe tbody tr th {\n",
              "        vertical-align: top;\n",
              "    }\n",
              "\n",
              "    .dataframe thead th {\n",
              "        text-align: right;\n",
              "    }\n",
              "</style>\n",
              "<table border=\"1\" class=\"dataframe\">\n",
              "  <thead>\n",
              "    <tr style=\"text-align: right;\">\n",
              "      <th></th>\n",
              "      <th>SPX</th>\n",
              "      <th>GLD</th>\n",
              "      <th>USO</th>\n",
              "      <th>SLV</th>\n",
              "      <th>EUR/USD</th>\n",
              "    </tr>\n",
              "  </thead>\n",
              "  <tbody>\n",
              "    <tr>\n",
              "      <th>SPX</th>\n",
              "      <td>1.000000</td>\n",
              "      <td>0.049345</td>\n",
              "      <td>-0.591573</td>\n",
              "      <td>-0.274055</td>\n",
              "      <td>-0.672017</td>\n",
              "    </tr>\n",
              "    <tr>\n",
              "      <th>GLD</th>\n",
              "      <td>0.049345</td>\n",
              "      <td>1.000000</td>\n",
              "      <td>-0.186360</td>\n",
              "      <td>0.866632</td>\n",
              "      <td>-0.024375</td>\n",
              "    </tr>\n",
              "    <tr>\n",
              "      <th>USO</th>\n",
              "      <td>-0.591573</td>\n",
              "      <td>-0.186360</td>\n",
              "      <td>1.000000</td>\n",
              "      <td>0.167547</td>\n",
              "      <td>0.829317</td>\n",
              "    </tr>\n",
              "    <tr>\n",
              "      <th>SLV</th>\n",
              "      <td>-0.274055</td>\n",
              "      <td>0.866632</td>\n",
              "      <td>0.167547</td>\n",
              "      <td>1.000000</td>\n",
              "      <td>0.321631</td>\n",
              "    </tr>\n",
              "    <tr>\n",
              "      <th>EUR/USD</th>\n",
              "      <td>-0.672017</td>\n",
              "      <td>-0.024375</td>\n",
              "      <td>0.829317</td>\n",
              "      <td>0.321631</td>\n",
              "      <td>1.000000</td>\n",
              "    </tr>\n",
              "  </tbody>\n",
              "</table>\n",
              "</div>"
            ],
            "text/plain": [
              "              SPX       GLD       USO       SLV   EUR/USD\n",
              "SPX      1.000000  0.049345 -0.591573 -0.274055 -0.672017\n",
              "GLD      0.049345  1.000000 -0.186360  0.866632 -0.024375\n",
              "USO     -0.591573 -0.186360  1.000000  0.167547  0.829317\n",
              "SLV     -0.274055  0.866632  0.167547  1.000000  0.321631\n",
              "EUR/USD -0.672017 -0.024375  0.829317  0.321631  1.000000"
            ]
          },
          "metadata": {},
          "execution_count": 65
        }
      ]
    },
    {
      "cell_type": "code",
      "metadata": {
        "colab": {
          "base_uri": "https://localhost:8080/",
          "height": 614
        },
        "id": "q0gto536Lyov",
        "outputId": "957df459-bad7-484f-e025-58ca73143bb7"
      },
      "source": [
        "plt.figure(figsize=(15,10))\n",
        "sns.heatmap(co,cbar=True,square=True,fmt='.1f',annot=True,annot_kws={'size':8},cmap='PiYG')"
      ],
      "execution_count": 66,
      "outputs": [
        {
          "output_type": "execute_result",
          "data": {
            "text/plain": [
              "<matplotlib.axes._subplots.AxesSubplot at 0x7f589305d550>"
            ]
          },
          "metadata": {},
          "execution_count": 66
        },
        {
          "output_type": "display_data",
          "data": {
            "image/png": "[encoded data removed]",
            "text/plain": [
              "<Figure size 1080x720 with 2 Axes>"
            ]
          },
          "metadata": {
            "needs_background": "light"
          }
        }
      ]
    },
    {
      "cell_type": "code",
      "metadata": {
        "colab": {
          "base_uri": "https://localhost:8080/",
          "height": 356
        },
        "id": "uF8Lw5z7Nfzt",
        "outputId": "5ab70801-d5ea-416b-93da-819755ea57f8"
      },
      "source": [
        "sns.distplot(data['GLD'],color=\"red\")"
      ],
      "execution_count": 67,
      "outputs": [
        {
          "output_type": "stream",
          "name": "stderr",
          "text": [
            "/usr/local/lib/python3.7/dist-packages/seaborn/distributions.py:2557: FutureWarning: `distplot` is a deprecated function and will be removed in a future version. Please adapt your code to use either `displot` (a figure-level function with similar flexibility) or `histplot` (an axes-level function for histograms).\n",
            "  warnings.warn(msg, FutureWarning)\n"
          ]
        },
        {
          "output_type": "execute_result",
          "data": {
            "text/plain": [
              "<matplotlib.axes._subplots.AxesSubplot at 0x7f5893096dd0>"
            ]
          },
          "metadata": {},
          "execution_count": 67
        },
        {
          "output_type": "display_data",
          "data": {
            "image/png": "[encoded data removed]",
            "text/plain": [
              "<Figure size 432x288 with 1 Axes>"
            ]
          },
          "metadata": {
            "needs_background": "light"
          }
        }
      ]
    },
    {
      "cell_type": "code",
      "metadata": {
        "id": "mSq3AzuyQNtn"
      },
      "source": [
        "X=data.drop(['Date','GLD'],axis=1)"
      ],
      "execution_count": 68,
      "outputs": []
    },
    {
      "cell_type": "code",
      "metadata": {
        "id": "yxwbF2pkRFAK"
      },
      "source": [
        "Y=data['GLD']"
      ],
      "execution_count": 69,
      "outputs": []
    },
    {
      "cell_type": "code",
      "metadata": {
        "id": "H4OTIwIsRWAM"
      },
      "source": [
        "X_train,X_test,Y_train,Y_test=train_test_split(X,Y,test_size=0.2,random_state=2)"
      ],
      "execution_count": 70,
      "outputs": []
    },
    {
      "cell_type": "code",
      "metadata": {
        "id": "lN2Iecf-Shrt"
      },
      "source": [
        "reg=RandomForestRegressor()"
      ],
      "execution_count": 71,
      "outputs": []
    },
    {
      "cell_type": "code",
      "metadata": {
        "colab": {
          "base_uri": "https://localhost:8080/"
        },
        "id": "ahDKPPgjTZos",
        "outputId": "ac0ba9df-f1d8-4c97-aa7d-4cb88760c2b7"
      },
      "source": [
        "reg.fit(X_train,Y_train)"
      ],
      "execution_count": 72,
      "outputs": [
        {
          "output_type": "execute_result",
          "data": {
            "text/plain": [
              "RandomForestRegressor(bootstrap=True, ccp_alpha=0.0, criterion='mse',\n",
              "                      max_depth=None, max_features='auto', max_leaf_nodes=None,\n",
              "                      max_samples=None, min_impurity_decrease=0.0,\n",
              "                      min_impurity_split=None, min_samples_leaf=1,\n",
              "                      min_samples_split=2, min_weight_fraction_leaf=0.0,\n",
              "                      n_estimators=100, n_jobs=None, oob_score=False,\n",
              "                      random_state=None, verbose=0, warm_start=False)"
            ]
          },
          "metadata": {},
          "execution_count": 72
        }
      ]
    },
    {
      "cell_type": "code",
      "metadata": {
        "colab": {
          "base_uri": "https://localhost:8080/"
        },
        "id": "swjmjoVVnSdW",
        "outputId": "2d45dac8-aad1-459d-84cf-bd891b871b02"
      },
      "source": [
        "Y_pred=reg.predict(X_test)\n",
        "Y_pred"
      ],
      "execution_count": 73,
      "outputs": [
        {
          "output_type": "execute_result",
          "data": {
            "text/plain": [
              "array([168.74569994,  81.96479989, 116.15480022, 127.68220045,\n",
              "       120.71540134, 154.62749767, 150.15419783, 126.14080003,\n",
              "       117.48809879, 125.94140045, 116.96520079, 171.8888008 ,\n",
              "       141.96129917, 167.67779831, 115.20000011, 117.72180047,\n",
              "       137.94470322, 170.17450049, 160.10320349, 158.9221987 ,\n",
              "       155.2652006 , 125.1986002 , 175.51820001, 156.89060246,\n",
              "       125.20260029,  93.70459981,  78.02369962, 120.48990022,\n",
              "       119.1571993 , 167.50830001,  88.13160031, 125.1742001 ,\n",
              "        91.11050103, 117.6157002 , 121.18319937, 136.01220032,\n",
              "       115.68140097, 114.90950067, 146.68219999, 107.27010094,\n",
              "       104.37330253,  87.14209776, 126.57100031, 117.94239972,\n",
              "       155.2232985 , 119.77209988, 108.265     , 107.84409814,\n",
              "        93.20480068, 127.16019782,  75.08210029, 113.49959905,\n",
              "       121.1296    , 111.17339891, 118.91519896, 120.7911992 ,\n",
              "       160.06969994, 167.71320114, 147.05589643,  85.87169871,\n",
              "        94.64970019,  86.81029906,  90.59930051, 118.87230107,\n",
              "       126.38190089, 127.52579995, 169.95299999, 122.32509954,\n",
              "       117.27009913,  98.6338006 , 168.22790191, 142.96959814,\n",
              "       131.81880272, 121.27440221, 121.03299949, 119.71550061,\n",
              "       114.26130158, 118.38150059, 107.09530113, 127.84990054,\n",
              "       114.00969963, 107.52359981, 116.66940042, 119.63589836,\n",
              "        89.07790095,  88.28929866, 146.72280289, 127.2603003 ,\n",
              "       113.60969991, 110.10139823, 107.98179913,  77.5735989 ,\n",
              "       169.4115019 , 113.96079918, 121.65519891, 127.84500187,\n",
              "       154.98079823,  91.79289964, 135.87860115, 158.96980339,\n",
              "       125.84400054, 125.44320062, 130.59550133, 114.77930102,\n",
              "       119.89580014,  92.16589955, 110.33669898, 168.34169935,\n",
              "       157.48119876, 114.03289945, 106.56600122,  79.9498996 ,\n",
              "       113.28860065, 125.74660058, 107.45019937, 119.06970061,\n",
              "       155.97560291, 159.67899947, 119.73980006, 135.60050322,\n",
              "       101.31679973, 117.77249786, 119.3275003 , 113.00090072,\n",
              "       102.76089912, 160.34949827,  98.94450048, 148.73629933,\n",
              "       125.3158008 , 168.98669955, 125.90499855, 127.29539787,\n",
              "       127.43360136, 113.76279934, 112.89770075, 123.63639876,\n",
              "       102.2293988 ,  89.43399973, 124.83249928, 101.58109928,\n",
              "       106.95249897, 113.27070106, 116.96080075,  99.45209944,\n",
              "       121.73100044, 163.08189886,  87.42109872, 106.78549994,\n",
              "       117.01530091, 127.71430148, 123.93270053,  80.78359923,\n",
              "       120.49120054, 157.26849832,  87.91169957, 110.26439943,\n",
              "       118.99399908, 172.39439899, 102.98789926, 105.67680046,\n",
              "       122.66590033, 157.50279808,  87.88659829,  93.18230036,\n",
              "       113.02680032, 177.42159994, 114.20000001, 119.31670021,\n",
              "        94.58510107, 125.86950026, 166.22739976, 114.89320053,\n",
              "       116.5767014 ,  88.30489858, 148.92710097, 120.31459971,\n",
              "        89.30689987, 111.41589988, 117.26200061, 118.68500121,\n",
              "        88.35279964,  94.33570016, 116.84560002, 118.54590199,\n",
              "       120.2403006 , 126.80219837, 121.97719979, 150.30870071,\n",
              "       164.46009963, 118.70419971, 120.33960137, 151.0550005 ,\n",
              "       118.33449894, 172.66019885, 106.02619943, 104.95400076,\n",
              "       149.2628012 , 113.58320084, 124.78580117, 147.3390996 ,\n",
              "       119.52800095, 115.16300058, 112.68539995, 113.49850221,\n",
              "       141.61490197, 117.70359773, 102.93630043, 115.89890118,\n",
              "       103.63250192,  99.24510019, 117.40520048,  90.61240012,\n",
              "        91.42000063, 153.90059869, 102.78640022, 155.08150065,\n",
              "       114.36450156, 138.52490092,  90.12199795, 115.59119968,\n",
              "       114.45539975, 123.04300034, 121.81359999, 165.35710156,\n",
              "        92.95309942, 135.06960096, 121.40599926, 120.82560094,\n",
              "       104.63459999, 145.16090221, 121.89439947, 116.62640039,\n",
              "       113.69840082, 126.92559799, 122.75929967, 125.7484999 ,\n",
              "       121.24370052,  86.88879884, 132.2498017 , 144.73300198,\n",
              "        92.59849968, 160.99319924, 159.33620351, 126.39919915,\n",
              "       164.20529876, 108.72549983, 109.74910065, 103.59479827,\n",
              "        94.33710024, 127.73390266, 106.97590022, 162.84089976,\n",
              "       121.72190024, 132.01599986, 130.60370094, 160.12979978,\n",
              "        90.14799828, 174.75520273, 127.58300008, 126.71429867,\n",
              "        86.38229873, 124.46579875, 150.45309745,  89.56980021,\n",
              "       106.9442995 , 108.98559965,  84.26949887, 136.29070015,\n",
              "       155.05430177, 138.28060259,  73.81500003, 152.63910128,\n",
              "       126.47220005, 126.70480018, 127.55289903, 108.69349959,\n",
              "       156.14610008, 114.59330077, 116.87970125, 125.58059967,\n",
              "       154.10160148, 121.20039984, 156.4194989 ,  92.96370069,\n",
              "       125.52900135, 126.1163006 ,  87.69239998,  92.07129945,\n",
              "       126.28199878, 128.1821036 , 113.13350061, 117.53669749,\n",
              "       120.98099963, 127.09819834, 119.8517009 , 136.26180036,\n",
              "        94.0051999 , 119.8276005 , 113.01550115,  94.25389947,\n",
              "       108.76980019,  87.60209925, 108.92689925,  89.64469988,\n",
              "        92.36780071, 131.62920274, 162.29309972,  89.41019944,\n",
              "       119.69910043, 133.51700166, 123.99230003, 128.09810237,\n",
              "       102.09309853,  88.85539871, 131.46820065, 120.02110019,\n",
              "       108.30509999, 168.53400136, 115.28030072,  86.60639902,\n",
              "       118.7876007 ,  91.05319986, 162.22790027, 116.61430039,\n",
              "       121.52670007, 160.16869775, 120.07619917, 112.88859963,\n",
              "       108.39339875, 126.59289954,  75.80890043, 102.99939996,\n",
              "       127.52640233, 121.66149889,  92.65649997, 131.88250136,\n",
              "       118.07760087, 115.79430017, 154.6984025 , 159.43430101,\n",
              "       109.95849958, 155.67309763, 119.23840078, 160.61750126,\n",
              "       118.60890062, 158.80769892, 115.17999986, 116.32060032,\n",
              "       148.85799928, 114.86510033, 125.60599899, 165.27379853,\n",
              "       117.82809989, 125.1339991 , 153.52080313, 153.51310237,\n",
              "       132.18630032, 114.81350011, 121.31420238, 124.90620059,\n",
              "        89.84170059, 123.41390014, 154.59390165, 111.91490059,\n",
              "       106.61179992, 161.60900214, 118.62059989, 165.83140072,\n",
              "       134.09060094, 114.96949981, 152.9081982 , 168.6822006 ,\n",
              "       114.23600022, 114.03520115, 159.47229882,  85.19399943,\n",
              "       127.12660091, 127.85500056, 128.81259966, 124.41860053,\n",
              "       123.97210106,  90.37150057, 152.97160048,  97.25019983,\n",
              "       137.89249946,  89.09279955, 107.46279961, 114.99040053,\n",
              "       112.57710099, 124.20689912,  91.45269864, 125.42300098,\n",
              "       162.36049893, 119.79099896, 164.92810164, 126.83089806,\n",
              "       112.46780032, 127.4684994 ,  94.78119871,  91.0375998 ,\n",
              "       103.48219892, 120.75179986,  82.93109952, 126.35050057,\n",
              "       160.87710472, 117.41960076, 118.29840004, 119.81709981,\n",
              "       122.66109959, 119.98130108, 121.3488997 , 118.35020049,\n",
              "       106.98629973, 148.03789954, 126.5451986 , 115.69840078,\n",
              "        74.15539986, 127.80880127, 154.40770085, 122.3386004 ,\n",
              "       125.51600047,  88.74329994, 103.85319883, 124.61160055,\n",
              "       120.21170025,  73.41720069, 151.41700013, 121.05170023,\n",
              "       104.55820011,  86.2336979 , 115.06039954, 172.30409758,\n",
              "       119.97470025, 160.17539752, 113.14410025, 121.36690026,\n",
              "       118.48140086,  96.01569993, 118.79589989, 125.96060021,\n",
              "       118.59239943,  95.73680021, 154.29940178, 122.23790023,\n",
              "       147.66479996, 159.77940266, 113.8821005 , 122.52739943,\n",
              "       150.29809892, 127.32010038, 166.03289982, 135.91370089,\n",
              "       119.9394996 , 167.43419887, 108.10659898, 121.72399842,\n",
              "       138.74370137, 106.56169929])"
            ]
          },
          "metadata": {},
          "execution_count": 73
        }
      ]
    },
    {
      "cell_type": "code",
      "metadata": {
        "colab": {
          "base_uri": "https://localhost:8080/"
        },
        "id": "iBdXYP63nmzU",
        "outputId": "811df842-5e77-4877-c9a0-506730c010e7"
      },
      "source": [
        "print(Y_test)"
      ],
      "execution_count": 76,
      "outputs": [
        {
          "output_type": "stream",
          "name": "stdout",
          "text": [
            "903     168.020004\n",
            "129      81.230003\n",
            "1787    112.320000\n",
            "1913    127.589996\n",
            "2048    119.620003\n",
            "           ...    \n",
            "923     166.380005\n",
            "1693    106.379997\n",
            "2054    122.239998\n",
            "658     133.830002\n",
            "376     102.360001\n",
            "Name: GLD, Length: 458, dtype: float64\n"
          ]
        }
      ]
    },
    {
      "cell_type": "code",
      "metadata": {
        "id": "ZHoXOkmQnpbj"
      },
      "source": [
        "er=metrics.r2_score(Y_pred,Y_test)"
      ],
      "execution_count": 77,
      "outputs": []
    },
    {
      "cell_type": "code",
      "metadata": {
        "colab": {
          "base_uri": "https://localhost:8080/"
        },
        "id": "iqk0Gn1NpKGt",
        "outputId": "246e44d2-f9bb-4945-b5e9-1da9193cc0cb"
      },
      "source": [
        "er"
      ],
      "execution_count": 78,
      "outputs": [
        {
          "output_type": "execute_result",
          "data": {
            "text/plain": [
              "0.9887846012462939"
            ]
          },
          "metadata": {},
          "execution_count": 78
        }
      ]
    },
    {
      "cell_type": "code",
      "metadata": {
        "id": "lOkT3GFIpK8r"
      },
      "source": [
        ""
      ],
      "execution_count": null,
      "outputs": []
    }
  ]
}